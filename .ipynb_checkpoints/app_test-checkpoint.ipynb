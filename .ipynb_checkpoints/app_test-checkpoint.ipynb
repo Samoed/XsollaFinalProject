{
 "cells": [
  {
   "cell_type": "code",
   "execution_count": null,
   "metadata": {},
   "outputs": [
    {
     "name": "stdout",
     "output_type": "stream",
     "text": [
      " * Serving Flask app \"__main__\" (lazy loading)\n",
      " * Environment: production\n",
      "   WARNING: This is a development server. Do not use it in a production deployment.\n",
      "   Use a production WSGI server instead.\n",
      " * Debug mode: off\n"
     ]
    },
    {
     "name": "stderr",
     "output_type": "stream",
     "text": [
      " * Running on http://0.0.0.0:5000/ (Press CTRL+C to quit)\n",
      "127.0.0.1 - - [25/Aug/2020 22:48:50] \"\u001b[37mGET /categoryPrediction HTTP/1.1\u001b[0m\" 200 -\n"
     ]
    },
    {
     "name": "stdout",
     "output_type": "stream",
     "text": [
      "{'message': 'ok', 'category_message_0': [[0.7020366663668282, 0.1681736812519959, 0.12978965238117585]], 'category_message_1': [[0.7020366663668282, 0.1681736812519959, 0.12978965238117585]], 'category_message_2': [[0.7020366663668282, 0.1681736812519959, 0.12978965238117585]]}\n"
     ]
    },
    {
     "name": "stderr",
     "output_type": "stream",
     "text": [
      "127.0.0.1 - - [25/Aug/2020 22:49:02] \"\u001b[37mGET /categoryPrediction HTTP/1.1\u001b[0m\" 200 -\n"
     ]
    },
    {
     "name": "stdout",
     "output_type": "stream",
     "text": [
      "{'message': 'ok', 'category_message_0': [[0.7020366663668282, 0.1681736812519959, 0.12978965238117585]]}\n"
     ]
    },
    {
     "name": "stderr",
     "output_type": "stream",
     "text": [
      "127.0.0.1 - - [25/Aug/2020 22:49:09] \"\u001b[37mGET /categoryPrediction HTTP/1.1\u001b[0m\" 200 -\n"
     ]
    },
    {
     "name": "stdout",
     "output_type": "stream",
     "text": [
      "{'message': 'ok', 'category_message_0': [[0.7020366663668282, 0.1681736812519959, 0.12978965238117585]]}\n"
     ]
    },
    {
     "name": "stderr",
     "output_type": "stream",
     "text": [
      "127.0.0.1 - - [25/Aug/2020 22:49:12] \"\u001b[37mGET /categoryPrediction HTTP/1.1\u001b[0m\" 200 -\n"
     ]
    },
    {
     "name": "stdout",
     "output_type": "stream",
     "text": [
      "{'message': 'ok', 'category_message_0': [[0.7020366663668282, 0.1681736812519959, 0.12978965238117585]]}\n"
     ]
    }
   ],
   "source": [
    "import lightgbm as lgb\n",
    "from sklearn.feature_extraction.text import TfidfVectorizer\n",
    "import numpy as np\n",
    "import pandas as pd\n",
    "import pickle\n",
    "\n",
    "\n",
    "\n",
    "from flask import Flask\n",
    "from flask import request\n",
    "import requests\n",
    "from flask import jsonify\n",
    "\n",
    "import os\n",
    "import json\n",
    "from ast import literal_eval\n",
    "import traceback\n",
    "\n",
    "application = Flask(__name__)\n",
    "\n",
    "\n",
    "#загружаем модели из файла\n",
    "vec = pickle.load(open(\"./models/tfidf.pickle\", \"rb\"))\n",
    "model = lgb.Booster(model_file='./models/lgbm_model_v2.txt')\n",
    "\n",
    "\n",
    "# тестовый вывод\n",
    "@application.route(\"/\")  \n",
    "def hello():\n",
    "    resp = {'message':\"Hello World!\"}\n",
    "    \n",
    "    response = jsonify(resp)\n",
    "    \n",
    "    return response\n",
    "\n",
    "# предикт категории\n",
    "@application.route(\"/categoryPrediction\", methods=['GET', 'POST'])  \n",
    "def registration():\n",
    "    resp = {'message':'ok'}\n",
    "    try:\n",
    "        #Получение данных\n",
    "        getData = request.get_data()\n",
    "        getData = getData.decode(\"utf-8\")\n",
    "        #Разбиение на разные запросы\n",
    "        arr=getData.split('\\r')\n",
    "        i=0\n",
    "        for tmp in arr:\n",
    "            if tmp =='':\n",
    "                continue\n",
    "            tmp = tmp.replace(\"'\",\"\\\"\")\n",
    "            json_params = json.loads(tmp)\n",
    "            #Предикт категории сообщений (выдает вероятность на принадлежность к классу)\n",
    "            category = model.predict(vec.transform([json_params['user_message']]).toarray()).tolist()\n",
    "            resp['category_message_'+str(i)] = category\n",
    "            i+=1       \n",
    "    except Exception as e: \n",
    "        print(e)\n",
    "        resp['message'] = e\n",
    "    print(resp)  \n",
    "    response = jsonify(resp)\n",
    "    \n",
    "    return response\n",
    "\n",
    "        \n",
    "\n",
    "if __name__ == \"__main__\":\n",
    "    port = int(os.getenv('PORT', 5000))\n",
    "    application.run(debug=False, port=port, host='0.0.0.0' , threaded=True)"
   ]
  },
  {
   "cell_type": "markdown",
   "metadata": {},
   "source": [
    "# Пример сохранения моделей и прогноза"
   ]
  },
  {
   "cell_type": "code",
   "execution_count": null,
   "metadata": {},
   "outputs": [],
   "source": [
    "#сохраняем векторайзер\n",
    "import pickle \n",
    "\n",
    "labels, levels = pd.factorize(df['category'])\n",
    "df['category_int'] = labels\n",
    "\n",
    "texts = df['message']\n",
    "\n",
    "vec = TfidfVectorizer(max_features=100)\n",
    "tfidf_mat = vec.fit_transform(texts).toarray()\n",
    "\n",
    "\n",
    "#vec - модель из прошлой практики\n",
    "\n",
    "#сохраняем модель в файл\n",
    "pickle.dump(vec, open(\"tfidf.pickle\", \"wb\"))\n",
    "\n",
    "#загружаем модель из файла\n",
    "vec = pickle.load(open(\"tfidf.pickle\", \"rb\"))\n",
    "\n",
    "\n",
    "\n",
    "#### сохраняем бустинг\n",
    "import lightgbm as lgb\n",
    "train = pd.DataFrame(tfidf_mat)\n",
    "train['category_int'] = df['category_int']\n",
    "\n",
    "train.dropna(inplace = True)\n",
    "\n",
    "target = 'category_int'\n",
    "train_columns = list(set(train.columns) - set([target]))\n",
    "\n",
    "\n",
    "lgb_data_train = lgb.Dataset(train[train_columns], \n",
    "                             train[target].values, \n",
    "                             free_raw_data=False\n",
    "                            )\n",
    "params = {\n",
    "    'objective':'multiclass', \n",
    "    'metric': 'multi_logloss',\n",
    "    \"num_class\" : 3,\n",
    "    'learning_rate': 0.01, \n",
    "    'random_state':202008,\n",
    "    'subsample':0.33,\n",
    "    'colsample_bytree':0.33,\n",
    "    'reg_lambda':4\n",
    "}\n",
    "\n",
    "model = lgb.train(params, lgb_data_train, num_boost_round=100  )\n",
    "\n",
    "model.save_model('lgbm_model.txt')\n",
    "\n",
    "model = lgb.Booster(model_file='lgbm_model.txt')\n",
    "\n",
    "#test predict\n",
    "#загружаем модель из файла\n",
    "vec = pickle.load(open(\"tfidf.pickle\", \"rb\"))\n",
    "message = 'hello i want to payment but it is blocked'\n",
    "model.predict(vec.transform([message]).toarray())"
   ]
  }
 ],
 "metadata": {
  "kernelspec": {
   "display_name": "Python 3",
   "language": "python",
   "name": "python3"
  },
  "language_info": {
   "codemirror_mode": {
    "name": "ipython",
    "version": 3
   },
   "file_extension": ".py",
   "mimetype": "text/x-python",
   "name": "python",
   "nbconvert_exporter": "python",
   "pygments_lexer": "ipython3",
   "version": "3.7.4"
  },
  "toc": {
   "base_numbering": 1,
   "nav_menu": {},
   "number_sections": true,
   "sideBar": true,
   "skip_h1_title": false,
   "title_cell": "Table of Contents",
   "title_sidebar": "Contents",
   "toc_cell": false,
   "toc_position": {},
   "toc_section_display": true,
   "toc_window_display": false
  }
 },
 "nbformat": 4,
 "nbformat_minor": 2
}
